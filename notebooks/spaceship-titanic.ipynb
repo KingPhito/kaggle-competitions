{
 "cells": [
  {
   "cell_type": "markdown",
   "metadata": {},
   "source": [
    "# Spaceship Titanic\n"
   ]
  },
  {
   "cell_type": "code",
   "execution_count": null,
   "metadata": {},
   "outputs": [],
   "source": [
    "%pip install kaggle\n",
    "%pip install numpy\n",
    "%pip install pandas\n",
    "%pip install matplotlib\n",
    "%pip install scikit-learn\n",
    "%pip install tensorflow[and-cuda] #  remove [and-cuda] if you don't have a GPU"
   ]
  },
  {
   "cell_type": "code",
   "execution_count": 1,
   "metadata": {},
   "outputs": [],
   "source": [
    "import os\n",
    "os.environ['KAGGLE_CONFIG_DIR'] = '..'\n",
    "data_dir = '../data/spaceship-titanic'\n",
    "!chmod 600 ../kaggle.json"
   ]
  },
  {
   "cell_type": "code",
   "execution_count": null,
   "metadata": {},
   "outputs": [],
   "source": [
    "!kaggle competitions download -c spaceship-titanic -p {data_dir}\n",
    "!unzip -o {data_dir}/spaceship-titanic.zip -d {data_dir}"
   ]
  },
  {
   "cell_type": "code",
   "execution_count": 2,
   "metadata": {},
   "outputs": [
    {
     "name": "stderr",
     "output_type": "stream",
     "text": [
      "/tmp/ipykernel_14440/1448122259.py:2: DeprecationWarning: \n",
      "Pyarrow will become a required dependency of pandas in the next major release of pandas (pandas 3.0),\n",
      "(to allow more performant data types, such as the Arrow string type, and better interoperability with other libraries)\n",
      "but was not found to be installed on your system.\n",
      "If this would cause problems for you,\n",
      "please provide us feedback at https://github.com/pandas-dev/pandas/issues/54466\n",
      "        \n",
      "  import pandas as pd\n",
      "2024-02-26 02:38:18.347388: E external/local_xla/xla/stream_executor/cuda/cuda_dnn.cc:9261] Unable to register cuDNN factory: Attempting to register factory for plugin cuDNN when one has already been registered\n",
      "2024-02-26 02:38:18.347456: E external/local_xla/xla/stream_executor/cuda/cuda_fft.cc:607] Unable to register cuFFT factory: Attempting to register factory for plugin cuFFT when one has already been registered\n",
      "2024-02-26 02:38:18.470692: E external/local_xla/xla/stream_executor/cuda/cuda_blas.cc:1515] Unable to register cuBLAS factory: Attempting to register factory for plugin cuBLAS when one has already been registered\n",
      "2024-02-26 02:38:18.719591: I tensorflow/core/platform/cpu_feature_guard.cc:182] This TensorFlow binary is optimized to use available CPU instructions in performance-critical operations.\n",
      "To enable the following instructions: AVX2 FMA, in other operations, rebuild TensorFlow with the appropriate compiler flags.\n",
      "2024-02-26 02:38:20.250074: W tensorflow/compiler/tf2tensorrt/utils/py_utils.cc:38] TF-TRT Warning: Could not find TensorRT\n"
     ]
    }
   ],
   "source": [
    "import numpy as np\n",
    "import pandas as pd\n",
    "import matplotlib.pyplot as plt\n",
    "from sklearn.model_selection import train_test_split\n",
    "import tensorflow as tf\n",
    "from tensorflow.keras.models import Sequential\n",
    "from tensorflow.keras.layers import Dense, Normalization, InputLayer, Dropout\n",
    "from tensorflow.keras.regularizers import l2"
   ]
  },
  {
   "cell_type": "code",
   "execution_count": 3,
   "metadata": {},
   "outputs": [
    {
     "name": "stdout",
     "output_type": "stream",
     "text": [
      "<class 'pandas.core.frame.DataFrame'>\n",
      "RangeIndex: 8693 entries, 0 to 8692\n",
      "Data columns (total 14 columns):\n",
      " #   Column        Non-Null Count  Dtype  \n",
      "---  ------        --------------  -----  \n",
      " 0   PassengerId   8693 non-null   object \n",
      " 1   HomePlanet    8492 non-null   object \n",
      " 2   CryoSleep     8476 non-null   object \n",
      " 3   Cabin         8494 non-null   object \n",
      " 4   Destination   8511 non-null   object \n",
      " 5   Age           8514 non-null   float64\n",
      " 6   VIP           8490 non-null   object \n",
      " 7   RoomService   8512 non-null   float64\n",
      " 8   FoodCourt     8510 non-null   float64\n",
      " 9   ShoppingMall  8485 non-null   float64\n",
      " 10  Spa           8510 non-null   float64\n",
      " 11  VRDeck        8505 non-null   float64\n",
      " 12  Name          8493 non-null   object \n",
      " 13  Transported   8693 non-null   bool   \n",
      "dtypes: bool(1), float64(6), object(7)\n",
      "memory usage: 891.5+ KB\n"
     ]
    }
   ],
   "source": [
    "data = pd.read_csv(f'{data_dir}/train.csv')\n",
    "data.info()"
   ]
  },
  {
   "cell_type": "code",
   "execution_count": 4,
   "metadata": {},
   "outputs": [
    {
     "name": "stdout",
     "output_type": "stream",
     "text": [
      "<class 'pandas.core.frame.DataFrame'>\n",
      "Index: 6764 entries, 0 to 8692\n",
      "Data columns (total 12 columns):\n",
      " #   Column        Non-Null Count  Dtype  \n",
      "---  ------        --------------  -----  \n",
      " 0   HomePlanet    6764 non-null   object \n",
      " 1   CryoSleep     6764 non-null   object \n",
      " 2   Cabin         6764 non-null   object \n",
      " 3   Destination   6764 non-null   object \n",
      " 4   Age           6764 non-null   float64\n",
      " 5   VIP           6764 non-null   object \n",
      " 6   RoomService   6764 non-null   float64\n",
      " 7   FoodCourt     6764 non-null   float64\n",
      " 8   ShoppingMall  6764 non-null   float64\n",
      " 9   Spa           6764 non-null   float64\n",
      " 10  VRDeck        6764 non-null   float64\n",
      " 11  Transported   6764 non-null   bool   \n",
      "dtypes: bool(1), float64(6), object(5)\n",
      "memory usage: 640.7+ KB\n"
     ]
    }
   ],
   "source": [
    "data = data.drop(columns=['Name', 'PassengerId'])\n",
    "data = data.dropna(axis=0, how='any')\n",
    "data.info()"
   ]
  },
  {
   "cell_type": "code",
   "execution_count": 5,
   "metadata": {},
   "outputs": [],
   "source": [
    "def embed(data, column):\n",
    "    data[column] = pd.Categorical(data[column])\n",
    "    data[column] = data[column].cat.codes\n",
    "    return data\n",
    "\n",
    "def embed_all(data):\n",
    "    for column in data.columns:\n",
    "        if data[column].dtype == 'object' or data[column].dtype == 'bool':\n",
    "            data = embed(data, column)\n",
    "    return data"
   ]
  },
  {
   "cell_type": "code",
   "execution_count": 6,
   "metadata": {},
   "outputs": [
    {
     "data": {
      "text/html": [
       "<div>\n",
       "<style scoped>\n",
       "    .dataframe tbody tr th:only-of-type {\n",
       "        vertical-align: middle;\n",
       "    }\n",
       "\n",
       "    .dataframe tbody tr th {\n",
       "        vertical-align: top;\n",
       "    }\n",
       "\n",
       "    .dataframe thead th {\n",
       "        text-align: right;\n",
       "    }\n",
       "</style>\n",
       "<table border=\"1\" class=\"dataframe\">\n",
       "  <thead>\n",
       "    <tr style=\"text-align: right;\">\n",
       "      <th></th>\n",
       "      <th>HomePlanet</th>\n",
       "      <th>CryoSleep</th>\n",
       "      <th>Cabin</th>\n",
       "      <th>Destination</th>\n",
       "      <th>Age</th>\n",
       "      <th>VIP</th>\n",
       "      <th>RoomService</th>\n",
       "      <th>FoodCourt</th>\n",
       "      <th>ShoppingMall</th>\n",
       "      <th>Spa</th>\n",
       "      <th>VRDeck</th>\n",
       "      <th>Transported</th>\n",
       "    </tr>\n",
       "  </thead>\n",
       "  <tbody>\n",
       "    <tr>\n",
       "      <th>0</th>\n",
       "      <td>1</td>\n",
       "      <td>0</td>\n",
       "      <td>138</td>\n",
       "      <td>2</td>\n",
       "      <td>39.0</td>\n",
       "      <td>0</td>\n",
       "      <td>0.0</td>\n",
       "      <td>0.0</td>\n",
       "      <td>0.0</td>\n",
       "      <td>0.0</td>\n",
       "      <td>0.0</td>\n",
       "      <td>0</td>\n",
       "    </tr>\n",
       "    <tr>\n",
       "      <th>1</th>\n",
       "      <td>0</td>\n",
       "      <td>0</td>\n",
       "      <td>1854</td>\n",
       "      <td>2</td>\n",
       "      <td>24.0</td>\n",
       "      <td>0</td>\n",
       "      <td>109.0</td>\n",
       "      <td>9.0</td>\n",
       "      <td>25.0</td>\n",
       "      <td>549.0</td>\n",
       "      <td>44.0</td>\n",
       "      <td>1</td>\n",
       "    </tr>\n",
       "    <tr>\n",
       "      <th>2</th>\n",
       "      <td>1</td>\n",
       "      <td>0</td>\n",
       "      <td>1</td>\n",
       "      <td>2</td>\n",
       "      <td>58.0</td>\n",
       "      <td>1</td>\n",
       "      <td>43.0</td>\n",
       "      <td>3576.0</td>\n",
       "      <td>0.0</td>\n",
       "      <td>6715.0</td>\n",
       "      <td>49.0</td>\n",
       "      <td>0</td>\n",
       "    </tr>\n",
       "    <tr>\n",
       "      <th>3</th>\n",
       "      <td>1</td>\n",
       "      <td>0</td>\n",
       "      <td>1</td>\n",
       "      <td>2</td>\n",
       "      <td>33.0</td>\n",
       "      <td>0</td>\n",
       "      <td>0.0</td>\n",
       "      <td>1283.0</td>\n",
       "      <td>371.0</td>\n",
       "      <td>3329.0</td>\n",
       "      <td>193.0</td>\n",
       "      <td>0</td>\n",
       "    </tr>\n",
       "    <tr>\n",
       "      <th>4</th>\n",
       "      <td>0</td>\n",
       "      <td>0</td>\n",
       "      <td>1856</td>\n",
       "      <td>2</td>\n",
       "      <td>16.0</td>\n",
       "      <td>0</td>\n",
       "      <td>303.0</td>\n",
       "      <td>70.0</td>\n",
       "      <td>151.0</td>\n",
       "      <td>565.0</td>\n",
       "      <td>2.0</td>\n",
       "      <td>1</td>\n",
       "    </tr>\n",
       "  </tbody>\n",
       "</table>\n",
       "</div>"
      ],
      "text/plain": [
       "   HomePlanet  CryoSleep  Cabin  Destination   Age  VIP  RoomService  \\\n",
       "0           1          0    138            2  39.0    0          0.0   \n",
       "1           0          0   1854            2  24.0    0        109.0   \n",
       "2           1          0      1            2  58.0    1         43.0   \n",
       "3           1          0      1            2  33.0    0          0.0   \n",
       "4           0          0   1856            2  16.0    0        303.0   \n",
       "\n",
       "   FoodCourt  ShoppingMall     Spa  VRDeck  Transported  \n",
       "0        0.0           0.0     0.0     0.0            0  \n",
       "1        9.0          25.0   549.0    44.0            1  \n",
       "2     3576.0           0.0  6715.0    49.0            0  \n",
       "3     1283.0         371.0  3329.0   193.0            0  \n",
       "4       70.0         151.0   565.0     2.0            1  "
      ]
     },
     "execution_count": 6,
     "metadata": {},
     "output_type": "execute_result"
    }
   ],
   "source": [
    "data = embed_all(data)\n",
    "data.head()"
   ]
  },
  {
   "cell_type": "code",
   "execution_count": 7,
   "metadata": {},
   "outputs": [],
   "source": [
    "train, valid = train_test_split(data, test_size=0.2, random_state=42)\n",
    "train_x = train.drop(columns=['Transported'], axis=1)\n",
    "train_y = train['Transported']\n",
    "valid_x = valid.drop(columns=['Transported'], axis=1)\n",
    "valid_y = valid['Transported']"
   ]
  },
  {
   "cell_type": "code",
   "execution_count": 12,
   "metadata": {},
   "outputs": [
    {
     "data": {
      "text/plain": [
       "(5411, 11)"
      ]
     },
     "execution_count": 12,
     "metadata": {},
     "output_type": "execute_result"
    }
   ],
   "source": [
    "train_x.shape"
   ]
  },
  {
   "cell_type": "code",
   "execution_count": null,
   "metadata": {},
   "outputs": [],
   "source": [
    "spending = pd.Series(train_x.loc[:, ['RoomService', 'FoodCourt', 'ShoppingMall', 'Spa', 'VRDeck']].mean(axis=1))\n",
    "age = train_x['Age']\n",
    "plt.scatter(age, train_y)\n",
    "plt.show(); "
   ]
  },
  {
   "cell_type": "code",
   "execution_count": 53,
   "metadata": {},
   "outputs": [
    {
     "name": "stdout",
     "output_type": "stream",
     "text": [
      "Model: \"sequential_10\"\n",
      "_________________________________________________________________\n",
      " Layer (type)                Output Shape              Param #   \n",
      "=================================================================\n",
      " normalization_10 (Normaliz  (None, 11)                23        \n",
      " ation)                                                          \n",
      "                                                                 \n",
      " dense_40 (Dense)            (None, 64)                768       \n",
      "                                                                 \n",
      " dropout_30 (Dropout)        (None, 64)                0         \n",
      "                                                                 \n",
      " dense_41 (Dense)            (None, 32)                2080      \n",
      "                                                                 \n",
      " dropout_31 (Dropout)        (None, 32)                0         \n",
      "                                                                 \n",
      " dense_42 (Dense)            (None, 16)                528       \n",
      "                                                                 \n",
      " dropout_32 (Dropout)        (None, 16)                0         \n",
      "                                                                 \n",
      " dense_43 (Dense)            (None, 1)                 17        \n",
      "                                                                 \n",
      "=================================================================\n",
      "Total params: 3416 (13.35 KB)\n",
      "Trainable params: 3393 (13.25 KB)\n",
      "Non-trainable params: 23 (96.00 Byte)\n",
      "_________________________________________________________________\n"
     ]
    }
   ],
   "source": [
    "model = Sequential(\n",
    "    [\n",
    "        InputLayer(input_shape=(train_x.shape[1],)),\n",
    "        Normalization(),\n",
    "        Dense(64, activation='relu', kernel_regularizer=l2(0.01)),\n",
    "        Dropout(0.5),\n",
    "        Dense(32, activation='relu', kernel_regularizer=l2(0.01)),\n",
    "        Dropout(0.5),\n",
    "        Dense(16, activation='relu', kernel_regularizer=l2(0.01)),\n",
    "        Dropout(0.5),\n",
    "        Dense(1)\n",
    "    ]\n",
    ")\n",
    "\n",
    "model.summary()\n",
    "lr_schedule = tf.keras.optimizers.schedules.InverseTimeDecay(\n",
    "    0.001,\n",
    "    decay_steps=train_x.shape[0] / 270 * 1000,\n",
    "    decay_rate=1,\n",
    "    staircase=False\n",
    ")\n",
    "optimizer = tf.keras.optimizers.Adam(lr_schedule)\n",
    "model.compile(optimizer=optimizer, loss=tf.keras.losses.BinaryCrossentropy(from_logits=True), metrics=tf.keras.metrics.BinaryAccuracy())"
   ]
  },
  {
   "cell_type": "code",
   "execution_count": 17,
   "metadata": {},
   "outputs": [],
   "source": [
    "train_ds = tf.data.Dataset.from_tensor_slices((train_x.values, train_y.values)).shuffle(5411).batch(270, drop_remainder=True)\n",
    "valid_ds = tf.data.Dataset.from_tensor_slices((valid_x.values, valid_y.values)).batch(270)\n",
    "print(train_ds.element_spec)"
   ]
  },
  {
   "cell_type": "code",
   "execution_count": 54,
   "metadata": {},
   "outputs": [
    {
     "name": "stdout",
     "output_type": "stream",
     "text": [
      "Epoch 1/50\n",
      "20/20 [==============================] - 1s 12ms/step - loss: 238.9017 - binary_accuracy: 0.4880 - val_loss: 18.4144 - val_binary_accuracy: 0.5137\n",
      "Epoch 2/50\n",
      "20/20 [==============================] - 0s 7ms/step - loss: 141.3708 - binary_accuracy: 0.4870 - val_loss: 13.7677 - val_binary_accuracy: 0.4745\n",
      "Epoch 3/50\n",
      "20/20 [==============================] - 0s 7ms/step - loss: 85.2234 - binary_accuracy: 0.5150 - val_loss: 7.7602 - val_binary_accuracy: 0.4908\n",
      "Epoch 4/50\n",
      "20/20 [==============================] - 0s 7ms/step - loss: 58.9673 - binary_accuracy: 0.5050 - val_loss: 3.0978 - val_binary_accuracy: 0.6201\n",
      "Epoch 5/50\n",
      "20/20 [==============================] - 0s 8ms/step - loss: 40.3865 - binary_accuracy: 0.5130 - val_loss: 2.6659 - val_binary_accuracy: 0.5772\n",
      "Epoch 6/50\n",
      "20/20 [==============================] - 0s 8ms/step - loss: 33.3187 - binary_accuracy: 0.5115 - val_loss: 1.9363 - val_binary_accuracy: 0.5188\n",
      "Epoch 7/50\n",
      "20/20 [==============================] - 0s 7ms/step - loss: 25.8033 - binary_accuracy: 0.5137 - val_loss: 1.9455 - val_binary_accuracy: 0.5270\n",
      "Epoch 8/50\n",
      "20/20 [==============================] - 0s 7ms/step - loss: 21.9991 - binary_accuracy: 0.5006 - val_loss: 1.7557 - val_binary_accuracy: 0.5225\n",
      "Epoch 9/50\n",
      "20/20 [==============================] - 0s 7ms/step - loss: 17.3599 - binary_accuracy: 0.5156 - val_loss: 1.7273 - val_binary_accuracy: 0.5233\n",
      "Epoch 10/50\n",
      "20/20 [==============================] - 0s 7ms/step - loss: 15.1656 - binary_accuracy: 0.5054 - val_loss: 1.7611 - val_binary_accuracy: 0.5181\n",
      "Epoch 11/50\n",
      "20/20 [==============================] - 0s 8ms/step - loss: 11.9195 - binary_accuracy: 0.4806 - val_loss: 1.6203 - val_binary_accuracy: 0.5225\n",
      "Epoch 12/50\n",
      "20/20 [==============================] - 0s 7ms/step - loss: 9.5312 - binary_accuracy: 0.5037 - val_loss: 1.5784 - val_binary_accuracy: 0.5240\n",
      "Epoch 13/50\n",
      "20/20 [==============================] - 0s 7ms/step - loss: 8.5348 - binary_accuracy: 0.4876 - val_loss: 1.5074 - val_binary_accuracy: 0.5270\n",
      "Epoch 14/50\n",
      "20/20 [==============================] - 0s 7ms/step - loss: 8.1244 - binary_accuracy: 0.5004 - val_loss: 1.4291 - val_binary_accuracy: 0.5218\n",
      "Epoch 15/50\n",
      "20/20 [==============================] - 0s 7ms/step - loss: 6.3204 - binary_accuracy: 0.4930 - val_loss: 1.3882 - val_binary_accuracy: 0.5211\n",
      "Epoch 16/50\n",
      "20/20 [==============================] - 0s 8ms/step - loss: 6.4569 - binary_accuracy: 0.4881 - val_loss: 1.3594 - val_binary_accuracy: 0.5218\n",
      "Epoch 17/50\n",
      "20/20 [==============================] - 0s 7ms/step - loss: 5.5859 - binary_accuracy: 0.5037 - val_loss: 1.3471 - val_binary_accuracy: 0.5218\n",
      "Epoch 18/50\n",
      "20/20 [==============================] - 0s 7ms/step - loss: 4.7537 - binary_accuracy: 0.4967 - val_loss: 1.3390 - val_binary_accuracy: 0.5211\n",
      "Epoch 19/50\n",
      "20/20 [==============================] - 0s 8ms/step - loss: 4.2663 - binary_accuracy: 0.4965 - val_loss: 1.3316 - val_binary_accuracy: 0.5218\n",
      "Epoch 20/50\n",
      "20/20 [==============================] - 0s 7ms/step - loss: 4.4340 - binary_accuracy: 0.4841 - val_loss: 1.3260 - val_binary_accuracy: 0.5218\n",
      "Epoch 21/50\n",
      "20/20 [==============================] - 0s 7ms/step - loss: 3.7637 - binary_accuracy: 0.4935 - val_loss: 1.3241 - val_binary_accuracy: 0.5218\n",
      "Epoch 22/50\n",
      "20/20 [==============================] - 0s 7ms/step - loss: 3.7310 - binary_accuracy: 0.4867 - val_loss: 1.3240 - val_binary_accuracy: 0.5218\n",
      "Epoch 23/50\n",
      "20/20 [==============================] - 0s 7ms/step - loss: 3.3309 - binary_accuracy: 0.4894 - val_loss: 1.3244 - val_binary_accuracy: 0.5218\n",
      "Epoch 24/50\n",
      "20/20 [==============================] - 0s 7ms/step - loss: 3.1515 - binary_accuracy: 0.4935 - val_loss: 1.3269 - val_binary_accuracy: 0.5211\n",
      "Epoch 25/50\n",
      "20/20 [==============================] - 0s 7ms/step - loss: 2.9311 - binary_accuracy: 0.4922 - val_loss: 1.3314 - val_binary_accuracy: 0.5188\n",
      "Epoch 26/50\n",
      "20/20 [==============================] - 0s 8ms/step - loss: 2.7577 - binary_accuracy: 0.4937 - val_loss: 1.3335 - val_binary_accuracy: 0.5181\n",
      "Epoch 27/50\n",
      "20/20 [==============================] - 0s 8ms/step - loss: 2.2712 - binary_accuracy: 0.4904 - val_loss: 1.3333 - val_binary_accuracy: 0.5181\n",
      "Epoch 28/50\n",
      "20/20 [==============================] - 0s 7ms/step - loss: 2.5109 - binary_accuracy: 0.4956 - val_loss: 1.3305 - val_binary_accuracy: 0.5181\n",
      "Epoch 29/50\n",
      "20/20 [==============================] - 0s 7ms/step - loss: 2.3197 - binary_accuracy: 0.5007 - val_loss: 1.3304 - val_binary_accuracy: 0.5181\n",
      "Epoch 30/50\n",
      "20/20 [==============================] - 0s 8ms/step - loss: 2.5548 - binary_accuracy: 0.4867 - val_loss: 1.3340 - val_binary_accuracy: 0.5174\n",
      "Epoch 31/50\n",
      "20/20 [==============================] - 0s 8ms/step - loss: 2.1743 - binary_accuracy: 0.5017 - val_loss: 1.3359 - val_binary_accuracy: 0.5166\n",
      "Epoch 32/50\n",
      "20/20 [==============================] - 0s 7ms/step - loss: 2.3190 - binary_accuracy: 0.4893 - val_loss: 1.3393 - val_binary_accuracy: 0.5166\n",
      "Epoch 33/50\n",
      "20/20 [==============================] - 0s 7ms/step - loss: 2.1148 - binary_accuracy: 0.4926 - val_loss: 1.3386 - val_binary_accuracy: 0.5166\n",
      "Epoch 34/50\n",
      "20/20 [==============================] - 0s 7ms/step - loss: 2.2402 - binary_accuracy: 0.4954 - val_loss: 1.3360 - val_binary_accuracy: 0.5166\n",
      "Epoch 35/50\n",
      "20/20 [==============================] - 0s 7ms/step - loss: 2.2247 - binary_accuracy: 0.4913 - val_loss: 1.3375 - val_binary_accuracy: 0.5166\n",
      "Epoch 36/50\n",
      "20/20 [==============================] - 0s 8ms/step - loss: 1.8610 - binary_accuracy: 0.4959 - val_loss: 1.3411 - val_binary_accuracy: 0.5166\n",
      "Epoch 37/50\n",
      "20/20 [==============================] - 0s 7ms/step - loss: 1.9291 - binary_accuracy: 0.4954 - val_loss: 1.3385 - val_binary_accuracy: 0.5166\n",
      "Epoch 38/50\n",
      "20/20 [==============================] - 0s 7ms/step - loss: 1.7907 - binary_accuracy: 0.4917 - val_loss: 1.3370 - val_binary_accuracy: 0.5166\n",
      "Epoch 39/50\n",
      "20/20 [==============================] - 0s 7ms/step - loss: 1.8813 - binary_accuracy: 0.4946 - val_loss: 1.3381 - val_binary_accuracy: 0.5166\n",
      "Epoch 40/50\n",
      "20/20 [==============================] - 0s 7ms/step - loss: 1.7793 - binary_accuracy: 0.4931 - val_loss: 1.3383 - val_binary_accuracy: 0.5166\n",
      "Epoch 41/50\n",
      "20/20 [==============================] - 0s 8ms/step - loss: 1.8459 - binary_accuracy: 0.4948 - val_loss: 1.3403 - val_binary_accuracy: 0.5166\n",
      "Epoch 42/50\n",
      "20/20 [==============================] - 0s 7ms/step - loss: 1.7409 - binary_accuracy: 0.4978 - val_loss: 1.3364 - val_binary_accuracy: 0.5166\n",
      "Epoch 43/50\n",
      "20/20 [==============================] - 0s 7ms/step - loss: 1.9202 - binary_accuracy: 0.4944 - val_loss: 1.3356 - val_binary_accuracy: 0.5166\n",
      "Epoch 44/50\n",
      "20/20 [==============================] - 0s 7ms/step - loss: 1.6986 - binary_accuracy: 0.4972 - val_loss: 1.3377 - val_binary_accuracy: 0.5166\n",
      "Epoch 45/50\n",
      "20/20 [==============================] - 0s 7ms/step - loss: 1.7610 - binary_accuracy: 0.4963 - val_loss: 1.3391 - val_binary_accuracy: 0.5166\n",
      "Epoch 46/50\n",
      "20/20 [==============================] - 0s 7ms/step - loss: 1.8224 - binary_accuracy: 0.4961 - val_loss: 1.3395 - val_binary_accuracy: 0.5166\n",
      "Epoch 47/50\n",
      "20/20 [==============================] - 0s 7ms/step - loss: 1.6224 - binary_accuracy: 0.4943 - val_loss: 1.3381 - val_binary_accuracy: 0.5166\n",
      "Epoch 48/50\n",
      "20/20 [==============================] - 0s 7ms/step - loss: 1.6705 - binary_accuracy: 0.4922 - val_loss: 1.3364 - val_binary_accuracy: 0.5166\n",
      "Epoch 49/50\n",
      "20/20 [==============================] - 0s 7ms/step - loss: 1.5128 - binary_accuracy: 0.4970 - val_loss: 1.3357 - val_binary_accuracy: 0.5166\n",
      "Epoch 50/50\n",
      "20/20 [==============================] - 0s 7ms/step - loss: 1.6275 - binary_accuracy: 0.4965 - val_loss: 1.3350 - val_binary_accuracy: 0.5166\n"
     ]
    }
   ],
   "source": [
    "metrics = model.fit(train_ds, validation_data=valid_ds, epochs=50, steps_per_epoch=20)"
   ]
  },
  {
   "cell_type": "code",
   "execution_count": 55,
   "metadata": {},
   "outputs": [],
   "source": [
    "test = pd.read_csv(f'{data_dir}/test.csv')\n",
    "test.drop(columns=['Name', 'PassengerId'], inplace=True)\n",
    "test = embed_all(test)"
   ]
  },
  {
   "cell_type": "code",
   "execution_count": 56,
   "metadata": {},
   "outputs": [
    {
     "name": "stdout",
     "output_type": "stream",
     "text": [
      "134/134 [==============================] - 0s 2ms/step\n"
     ]
    },
    {
     "data": {
      "text/html": [
       "<div>\n",
       "<style scoped>\n",
       "    .dataframe tbody tr th:only-of-type {\n",
       "        vertical-align: middle;\n",
       "    }\n",
       "\n",
       "    .dataframe tbody tr th {\n",
       "        vertical-align: top;\n",
       "    }\n",
       "\n",
       "    .dataframe thead th {\n",
       "        text-align: right;\n",
       "    }\n",
       "</style>\n",
       "<table border=\"1\" class=\"dataframe\">\n",
       "  <thead>\n",
       "    <tr style=\"text-align: right;\">\n",
       "      <th></th>\n",
       "      <th>PassengerId</th>\n",
       "      <th>Transported</th>\n",
       "    </tr>\n",
       "  </thead>\n",
       "  <tbody>\n",
       "    <tr>\n",
       "      <th>0</th>\n",
       "      <td>0013_01</td>\n",
       "      <td>0.141508</td>\n",
       "    </tr>\n",
       "    <tr>\n",
       "      <th>1</th>\n",
       "      <td>0018_01</td>\n",
       "      <td>0.085787</td>\n",
       "    </tr>\n",
       "    <tr>\n",
       "      <th>2</th>\n",
       "      <td>0019_01</td>\n",
       "      <td>0.190118</td>\n",
       "    </tr>\n",
       "    <tr>\n",
       "      <th>3</th>\n",
       "      <td>0021_01</td>\n",
       "      <td>0.037451</td>\n",
       "    </tr>\n",
       "    <tr>\n",
       "      <th>4</th>\n",
       "      <td>0023_01</td>\n",
       "      <td>0.158816</td>\n",
       "    </tr>\n",
       "  </tbody>\n",
       "</table>\n",
       "</div>"
      ],
      "text/plain": [
       "  PassengerId  Transported\n",
       "0     0013_01     0.141508\n",
       "1     0018_01     0.085787\n",
       "2     0019_01     0.190118\n",
       "3     0021_01     0.037451\n",
       "4     0023_01     0.158816"
      ]
     },
     "execution_count": 56,
     "metadata": {},
     "output_type": "execute_result"
    }
   ],
   "source": [
    "submission = pd.read_csv(f'{data_dir}/sample_submission.csv')\n",
    "submission['Transported'] = model.predict(test)\n",
    "submission.head()"
   ]
  },
  {
   "cell_type": "code",
   "execution_count": 57,
   "metadata": {},
   "outputs": [
    {
     "name": "stderr",
     "output_type": "stream",
     "text": [
      "/tmp/ipykernel_14440/2407214910.py:5: FutureWarning: Setting an item of incompatible dtype is deprecated and will raise an error in a future version of pandas. Value 'False' has dtype incompatible with float32, please explicitly cast to a compatible dtype first.\n",
      "  submission.loc[i, 'Transported'] = 'False'\n"
     ]
    },
    {
     "data": {
      "text/html": [
       "<div>\n",
       "<style scoped>\n",
       "    .dataframe tbody tr th:only-of-type {\n",
       "        vertical-align: middle;\n",
       "    }\n",
       "\n",
       "    .dataframe tbody tr th {\n",
       "        vertical-align: top;\n",
       "    }\n",
       "\n",
       "    .dataframe thead th {\n",
       "        text-align: right;\n",
       "    }\n",
       "</style>\n",
       "<table border=\"1\" class=\"dataframe\">\n",
       "  <thead>\n",
       "    <tr style=\"text-align: right;\">\n",
       "      <th></th>\n",
       "      <th>PassengerId</th>\n",
       "      <th>Transported</th>\n",
       "    </tr>\n",
       "  </thead>\n",
       "  <tbody>\n",
       "    <tr>\n",
       "      <th>0</th>\n",
       "      <td>0013_01</td>\n",
       "      <td>False</td>\n",
       "    </tr>\n",
       "    <tr>\n",
       "      <th>1</th>\n",
       "      <td>0018_01</td>\n",
       "      <td>False</td>\n",
       "    </tr>\n",
       "    <tr>\n",
       "      <th>2</th>\n",
       "      <td>0019_01</td>\n",
       "      <td>False</td>\n",
       "    </tr>\n",
       "    <tr>\n",
       "      <th>3</th>\n",
       "      <td>0021_01</td>\n",
       "      <td>False</td>\n",
       "    </tr>\n",
       "    <tr>\n",
       "      <th>4</th>\n",
       "      <td>0023_01</td>\n",
       "      <td>False</td>\n",
       "    </tr>\n",
       "  </tbody>\n",
       "</table>\n",
       "</div>"
      ],
      "text/plain": [
       "  PassengerId Transported\n",
       "0     0013_01       False\n",
       "1     0018_01       False\n",
       "2     0019_01       False\n",
       "3     0021_01       False\n",
       "4     0023_01       False"
      ]
     },
     "execution_count": 57,
     "metadata": {},
     "output_type": "execute_result"
    }
   ],
   "source": [
    "for i in range(submission.shape[0]):\n",
    "    if submission.loc[i, 'Transported'] > 0.5:\n",
    "        submission.loc[i, 'Transported'] = 'True'\n",
    "    else:\n",
    "        submission.loc[i, 'Transported'] = 'False'\n",
    "\n",
    "submission.head()"
   ]
  },
  {
   "cell_type": "code",
   "execution_count": 50,
   "metadata": {},
   "outputs": [],
   "source": [
    "submission.to_csv(f'{data_dir}/submission.csv', index=False)"
   ]
  },
  {
   "cell_type": "code",
   "execution_count": 51,
   "metadata": {},
   "outputs": [
    {
     "name": "stdout",
     "output_type": "stream",
     "text": [
      "Warning: Your Kaggle API key is readable by other users on this system! To fix this, you can run 'chmod 600 ../kaggle.json'\n",
      "Warning: Looks like you're using an outdated API Version, please consider updating (server 1.6.7 / client 1.6.5)\n",
      "100%|███████████████████████████████████████| 54.9k/54.9k [00:00<00:00, 109kB/s]\n",
      "Successfully submitted to Spaceship Titanic"
     ]
    }
   ],
   "source": [
    "!kaggle competitions submit -c spaceship-titanic -f {data_dir}/submission.csv -m \"Larger nn with tf.\""
   ]
  }
 ],
 "metadata": {
  "kernelspec": {
   "display_name": "Python 3",
   "language": "python",
   "name": "python3"
  },
  "language_info": {
   "codemirror_mode": {
    "name": "ipython",
    "version": 3
   },
   "file_extension": ".py",
   "mimetype": "text/x-python",
   "name": "python",
   "nbconvert_exporter": "python",
   "pygments_lexer": "ipython3",
   "version": "3.10.12"
  }
 },
 "nbformat": 4,
 "nbformat_minor": 2
}
